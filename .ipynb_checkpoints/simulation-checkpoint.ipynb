{
 "cells": [
  {
   "cell_type": "markdown",
   "metadata": {},
   "source": [
    "### Useful Imports"
   ]
  },
  {
   "cell_type": "code",
   "execution_count": null,
   "metadata": {},
   "outputs": [],
   "source": [
    "%matplotlib inline\n",
    "\n",
    "import numpy as np\n",
    "import matplotlib.pyplot as plt\n",
    "import seaborn as sns\n",
    "import matplotlib.animation as animation\n",
    "import json\n",
    "from functools import reduce\n",
    "import random\n",
    "from IPython.display import HTML"
   ]
  },
  {
   "cell_type": "code",
   "execution_count": null,
   "metadata": {},
   "outputs": [],
   "source": [
    "from Virus.Human import Human\n",
    "from Virus.State import State\n",
    "from Virus import Simulation"
   ]
  },
  {
   "cell_type": "markdown",
   "metadata": {},
   "source": [
    "### Run your simulation"
   ]
  },
  {
   "cell_type": "code",
   "execution_count": null,
   "metadata": {},
   "outputs": [],
   "source": [
    "with open('Params/params.json','r') as f :\n",
    "    params = json.load(f)"
   ]
  },
  {
   "cell_type": "code",
   "execution_count": null,
   "metadata": {},
   "outputs": [],
   "source": [
    "state = Simulation.init_simulation(params)"
   ]
  },
  {
   "cell_type": "code",
   "execution_count": null,
   "metadata": {},
   "outputs": [],
   "source": [
    "n_contaminated = []\n",
    "n_dead = []\n",
    "n_healed = []\n",
    "state.print_summary()\n",
    "for i in range(params['steps']):\n",
    "    n_contaminated += [state.get_n_infected()]\n",
    "    n_dead += [state.get_n_dead()]\n",
    "    n_healed += [state.get_n_healed()]\n",
    "    \n",
    "    state = Simulation.next_step(state,params,False)"
   ]
  },
  {
   "cell_type": "code",
   "execution_count": null,
   "metadata": {},
   "outputs": [],
   "source": [
    "t = [i for i in range(params['steps'])]\n",
    "\n",
    "fig, ax = plt.subplots()\n",
    "l1, = ax.plot([0,params['steps']],[0,params['size_population']])\n",
    "l2, = ax.plot([0,params['steps']],[0,params['size_population']])\n",
    "l3, = ax.plot([0,params['steps']],[0,params['size_population']])\n",
    "\n",
    "def animate(i):\n",
    "    l1.set_data(t[:i], n_contaminated[:i])  # update the data\n",
    "    l2.set_data(t[:i], n_dead[:i])  # update the data\n",
    "    l3.set_data(t[:i], n_healed[:i])\n",
    "    return l1, l2,\n",
    "\n",
    "ani = animation.FuncAnimation(fig, animate, frames=len(t),interval=10)"
   ]
  },
  {
   "cell_type": "code",
   "execution_count": null,
   "metadata": {},
   "outputs": [],
   "source": [
    "HTML(ani.to_jshtml())"
   ]
  },
  {
   "cell_type": "code",
   "execution_count": null,
   "metadata": {},
   "outputs": [],
   "source": [
    "state.print_summary()"
   ]
  },
  {
   "cell_type": "code",
   "execution_count": null,
   "metadata": {},
   "outputs": [],
   "source": []
  }
 ],
 "metadata": {
  "kernelspec": {
   "display_name": "Python 3",
   "language": "python",
   "name": "python3"
  },
  "language_info": {
   "codemirror_mode": {
    "name": "ipython",
    "version": 3
   },
   "file_extension": ".py",
   "mimetype": "text/x-python",
   "name": "python",
   "nbconvert_exporter": "python",
   "pygments_lexer": "ipython3",
   "version": "3.7.3"
  }
 },
 "nbformat": 4,
 "nbformat_minor": 4
}
